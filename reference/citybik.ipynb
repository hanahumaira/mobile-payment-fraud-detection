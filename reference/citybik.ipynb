{
 "cells": [
  {
   "cell_type": "code",
   "execution_count": 2,
   "metadata": {},
   "outputs": [
    {
     "data": {
      "text/plain": [
       "{'empty_slots': 3,\n",
       " 'extra': {'number': 1,\n",
       "  'reviews': 72,\n",
       "  'score': 4.0,\n",
       "  'status': 'offline',\n",
       "  'uid': '537'},\n",
       " 'free_bikes': 5,\n",
       " 'id': 'f01c3eb11d001cdeb048c5153d2312ae',\n",
       " 'latitude': 45.04440354326403,\n",
       " 'longitude': 7.617623805999756,\n",
       " 'name': '01. Gerbido',\n",
       " 'timestamp': '2024-03-27T04:03:56.201000Z'}"
      ]
     },
     "execution_count": 2,
     "metadata": {},
     "output_type": "execute_result"
    }
   ],
   "source": [
    "import json\n",
    "with open(\"bikes.json\") as f:\n",
    "    dataset = json.load(f)\n",
    "    \n",
    "    dataset.keys()\n",
    "\n",
    "type(dataset[\"network\"])\n",
    "dataset[\"network\"].keys()\n",
    "type(dataset[\"network\"][\"stations\"])\n",
    "dataset[\"network\"][\"stations\"][0]"
   ]
  },
  {
   "cell_type": "code",
   "execution_count": 3,
   "metadata": {},
   "outputs": [
    {
     "name": "stdout",
     "output_type": "stream",
     "text": [
      "Number of active stations 1\n",
      "Bikes available 95\n",
      "Free docks 62\n"
     ]
    }
   ],
   "source": [
    "active_stations = [ station for station in dataset[\"network\"][\"stations\"] if station[\"extra\"][\"status\"] == \"online\" ]\n",
    "print(\"Number of active stations\", len(active_stations))\n",
    "bikes_avail = sum([ station[\"free_bikes\"] for station in dataset[\"network\"][\"stations\"]])\n",
    "free_docks = sum([ station[\"empty_slots\"] for station in dataset[\"network\"][\"stations\"]])\n",
    "print(\"Bikes available\", bikes_avail)\n",
    "print(\"Free docks\", free_docks)"
   ]
  },
  {
   "cell_type": "code",
   "execution_count": 4,
   "metadata": {},
   "outputs": [
    {
     "data": {
      "text/plain": [
       "115.9682872491932"
      ]
     },
     "execution_count": 4,
     "metadata": {},
     "output_type": "execute_result"
    }
   ],
   "source": [
    "from math import cos, acos, sin\n",
    "\n",
    "def distance_coords(lat1, lng1, lat2, lng2):\n",
    "    \"\"\"Compute the distance among two points.\"\"\"\n",
    "    deg2rad = lambda x: x * 3.141592 / 180\n",
    "    lat1, lng1, lat2, lng2 = map(deg2rad, [ lat1, lng1, lat2, lng2 ])\n",
    "    R = 6378100 # Radius of the Earth, in meters\n",
    "    return R * acos(sin(lat1) * sin(lat2) + cos(lat1) * cos(lat2) * cos(lng1 - lng2))\n",
    "# distance, in meters\n",
    "distance_coords(45.074512, 7.694419, 45.075309, 7.695369)"
   ]
  },
  {
   "cell_type": "code",
   "execution_count": 5,
   "metadata": {},
   "outputs": [
    {
     "name": "stdout",
     "output_type": "stream",
     "text": [
      "Closest station: 09. Rigola\n",
      "Distance: 6219.58278998704 meters\n",
      "Number of available bikes: 5\n"
     ]
    }
   ],
   "source": [
    "def distance_from_point(dataset, lat, lng):\n",
    "    closest = (None, None)\n",
    "    for station in dataset[\"network\"][\"stations\"]:\n",
    "        closest_station, closest_distance = closest\n",
    "        current_distance = distance_coords(lat, lng, station[\"latitude\"], station[\"longitude\"])\n",
    "        # if closest_distance is None, then we are at the first\n",
    "        # loop execution where the station has available bikes.\n",
    "        # In that case, we save the current station as the \n",
    "        # closest one (as we do not have any other stations available).\n",
    "        # From the next cycle on, to update `closest`, we need\n",
    "        # the station to actually be closer than the already saved one.\n",
    "        if station[\"free_bikes\"] > 0 and (closest_distance is None or current_distance < closest_distance):\n",
    "            closest = (station, current_distance)\n",
    "    return closest\n",
    "\n",
    "station, distance = distance_from_point(dataset, 45.074512, 7.694419)\n",
    "print(\"Closest station:\", station[\"name\"])\n",
    "print(\"Distance:\", distance, \"meters\")\n",
    "print(\"Number of available bikes:\", station[\"free_bikes\"])"
   ]
  },
  {
   "cell_type": "code",
   "execution_count": 6,
   "metadata": {},
   "outputs": [
    {
     "name": "stdout",
     "output_type": "stream",
     "text": [
      "Closest station: 09. Rigola\n",
      "Distance: 6219.58278998704 meters\n",
      "Number of available bikes: 5\n"
     ]
    }
   ],
   "source": [
    "max(dataset[\"network\"][\"stations\"], key=lambda station: station[\"free_bikes\"])\n",
    "def distance_from_point_2(dataset, lat, lng):\n",
    "    v = [ (s, distance_coords(lat, lng, s[\"latitude\"], s[\"longitude\"])) for s in dataset[\"network\"][\"stations\"] if s[\"free_bikes\"] > 0 ]\n",
    "    return min(v, key=lambda w: w[1])\n",
    "\n",
    "station, distance = distance_from_point_2(dataset, 45.074512, 7.694419)\n",
    "print(\"Closest station:\", station[\"name\"])\n",
    "print(\"Distance:\", distance, \"meters\")\n",
    "print(\"Number of available bikes:\", station[\"free_bikes\"])\n"
   ]
  }
 ],
 "metadata": {
  "kernelspec": {
   "display_name": "Python 3",
   "language": "python",
   "name": "python3"
  },
  "language_info": {
   "codemirror_mode": {
    "name": "ipython",
    "version": 3
   },
   "file_extension": ".py",
   "mimetype": "text/x-python",
   "name": "python",
   "nbconvert_exporter": "python",
   "pygments_lexer": "ipython3",
   "version": "3.12.0"
  }
 },
 "nbformat": 4,
 "nbformat_minor": 2
}
